{
 "cells": [
  {
   "cell_type": "markdown",
   "metadata": {},
   "source": [
    "# Attention Visualization\n",
    "\n",
    "**The goal of this notebook is to the attention weights learned by the model for each position on the grid.** \n",
    "\n",
    "The red cross shows the position from which we are calculating the weights. As shown by the plots, the model mainly learns to pay attention to the current position on the grid in the energy and probability models."
   ]
  },
  {
   "cell_type": "code",
   "execution_count": 1,
   "metadata": {},
   "outputs": [],
   "source": [
    "import torch\n",
    "import numpy as np\n",
    "import pytorch_lightning as pl\n",
    "import matplotlib.pyplot as plt\n",
    "\n",
    "from torch import nn\n",
    "from torch.utils.data import DataLoader, RandomSampler\n",
    "from tqdm.notebook import tqdm\n",
    "\n",
    "from models.probability_models import ProbabilityAttentionRNN, ProbabilityAttentionRNN2D\n",
    "from models.energy_models import EnergyAttentionRNN, EnergyAttentionRNN2D\n",
    "from data_utils.pytorch_datasets import EnergyDataset, EnergyDataset2D\n",
    "from plotting_utils.attention import attention_2D_viz, attention_1D_viz"
   ]
  },
  {
   "cell_type": "code",
   "execution_count": 2,
   "metadata": {
    "scrolled": true
   },
   "outputs": [],
   "source": [
    "energy_attn_ckpt = './model_weights/energy/rnn_attn/GRU_1L_1H_Bi/model.ckpt'\n",
    "energy_2D_attn_ckpt = './model_weights/energy/rnn_attn/2D_GRU_1L_1H_Bi/model.ckpt'\n",
    "prob_attn_ckpt = './model_weights/probability/rnn_attn/GRU_1L_1H_Bi/model.ckpt'\n",
    "prob_2D_attn_ckpt = './model_weights/probability/rnn_attn/2D_GRU_1L_1H_Bi/model.ckpt'\n",
    "\n",
    "energy_attn = EnergyAttentionRNN.load_from_checkpoint(energy_attn_ckpt)\n",
    "energy_attn.eval()\n",
    "\n",
    "energy_attn_2D = EnergyAttentionRNN2D.load_from_checkpoint(energy_2D_attn_ckpt)\n",
    "energy_attn_2D.eval()\n",
    "\n",
    "prob_attn = ProbabilityAttentionRNN.load_from_checkpoint(prob_attn_ckpt)\n",
    "prob_attn.eval();\n",
    "\n",
    "prob_attn_2D = ProbabilityAttentionRNN2D.load_from_checkpoint(prob_2D_attn_ckpt)\n",
    "prob_attn.eval();"
   ]
  },
  {
   "cell_type": "code",
   "execution_count": 3,
   "metadata": {},
   "outputs": [],
   "source": [
    "train_data_path = './data/train_data.hdf5'\n",
    "batch_size = 128\n",
    "n_random_samples = 3200\n",
    "\n",
    "dataset = EnergyDataset2D(filepath=train_data_path)\n",
    "random_sampler = RandomSampler(dataset, num_samples=n_random_samples, replacement=True)\n",
    "loader = DataLoader(\n",
    "    dataset,\n",
    "    batch_size=batch_size,\n",
    "    sampler=random_sampler,\n",
    "    num_workers=0)"
   ]
  },
  {
   "cell_type": "code",
   "execution_count": 4,
   "metadata": {},
   "outputs": [
    {
     "data": {
      "application/vnd.jupyter.widget-view+json": {
       "model_id": "182d48efae50485eb7e6b84a957a8f79",
       "version_major": 2,
       "version_minor": 0
      },
      "text/plain": [
       "HBox(children=(FloatProgress(value=0.0, max=25.0), HTML(value='')))"
      ]
     },
     "metadata": {},
     "output_type": "display_data"
    },
    {
     "name": "stdout",
     "output_type": "stream",
     "text": [
      "\n"
     ]
    }
   ],
   "source": [
    "attn_2D_rows = {}\n",
    "attn_2D_cols = {}\n",
    "\n",
    "attn_1D = {}\n",
    "with torch.no_grad():\n",
    "    for x_row, x_col, y in tqdm(loader):\n",
    "        y_pred, attn_weights = energy_attn_2D(x_row, x_col)\n",
    "        if y_pred.shape[0] == batch_size:\n",
    "            attn_2D_rows['energy_2D'] = attn_2D_rows.get('energy_2D', 0) + attn_weights[0]\n",
    "            attn_2D_cols['energy_2D'] = attn_2D_cols.get('energy_2D', 0) + attn_weights[1]\n",
    "            \n",
    "        y_pred, attn_weights = energy_attn(x_row)\n",
    "        if y_pred.shape[0] == batch_size:\n",
    "            attn_1D['energy'] = attn_1D.get('energy', 0) + attn_weights\n",
    "        \n",
    "        y_pred, attn_weights = prob_attn_2D(x_row, x_col)\n",
    "        if y_pred.shape[0] == batch_size:\n",
    "            attn_2D_rows['prob_2D'] = attn_2D_rows.get('prob_2D', 0) + attn_weights[0]\n",
    "            attn_2D_cols['prob_2D'] = attn_2D_cols.get('prob_2D', 0) + attn_weights[1]\n",
    "        \n",
    "        y_pred, attn_weights = prob_attn(x_row)\n",
    "        if y_pred.shape[0] == batch_size:\n",
    "            attn_1D['prob'] = attn_1D.get('prob', 0) + attn_weights"
   ]
  },
  {
   "cell_type": "code",
   "execution_count": 5,
   "metadata": {},
   "outputs": [
    {
     "data": {
      "image/png": "[encoded data removed]",
      "text/plain": [
       "<Figure size 576x576 with 5 Axes>"
      ]
     },
     "metadata": {
      "needs_background": "light"
     },
     "output_type": "display_data"
    }
   ],
   "source": [
    "row, col = 3, 4\n",
    "fig, ax = plt.subplots(2, 2, figsize=(8, 8))\n",
    "for i, model_key in enumerate(attn_2D_rows.keys()):\n",
    "    attn_weights_sum = (attn_2D_rows[model_key], attn_2D_cols[model_key])\n",
    "    attn_viz = attention_2D_viz(attn_weights_sum, row, col)\n",
    "    attn_viz[0, 0] = np.mean(attn_viz)\n",
    "    ax[0, i].matshow(attn_viz)\n",
    "    ax[0, i].text(col, row, \"X\",ha=\"center\", va=\"center\", color=\"r\")\n",
    "    ax[0, i].set_title(model_key, y=1.10)\n",
    "\n",
    "for i, model_key in enumerate(attn_1D.keys()):\n",
    "    attn_viz = attention_1D_viz(attn_1D[model_key], row, col)\n",
    "    attn_viz[0, 0] = np.mean(attn_viz)\n",
    "    im = ax[1, i].matshow(attn_viz)\n",
    "    ax[1, i].text(col, row, \"X\",ha=\"center\", va=\"center\", color=\"r\")\n",
    "    ax[1, i].set_title(model_key, y=1.10)\n",
    "    \n",
    "fig.subplots_adjust(right=0.8)\n",
    "cbar_ax = fig.add_axes([0.85, 0.15, 0.05, 0.7])\n",
    "fig.colorbar(im, cax=cbar_ax);"
   ]
  }
 ],
 "metadata": {
  "kernelspec": {
   "display_name": "Python [conda env:wandl]",
   "language": "python",
   "name": "conda-env-wandl-py"
  },
  "language_info": {
   "codemirror_mode": {
    "name": "ipython",
    "version": 3
   },
   "file_extension": ".py",
   "mimetype": "text/x-python",
   "name": "python",
   "nbconvert_exporter": "python",
   "pygments_lexer": "ipython3",
   "version": "3.8.1"
  },
  "varInspector": {
   "cols": {
    "lenName": 16,
    "lenType": 16,
    "lenVar": 40
   },
   "kernels_config": {
    "python": {
     "delete_cmd_postfix": "",
     "delete_cmd_prefix": "del ",
     "library": "var_list.py",
     "varRefreshCmd": "print(var_dic_list())"
    },
    "r": {
     "delete_cmd_postfix": ") ",
     "delete_cmd_prefix": "rm(",
     "library": "var_list.r",
     "varRefreshCmd": "cat(var_dic_list()) "
    }
   },
   "types_to_exclude": [
    "module",
    "function",
    "builtin_function_or_method",
    "instance",
    "_Feature"
   ],
   "window_display": false
  }
 },
 "nbformat": 4,
 "nbformat_minor": 2
}

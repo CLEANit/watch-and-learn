{
 "cells": [
  {
   "cell_type": "code",
   "execution_count": 1,
   "metadata": {},
   "outputs": [],
   "source": [
    "import torch\n",
    "import numpy as np\n",
    "import pytorch_lightning as pl\n",
    "import matplotlib.pyplot as plt\n",
    "\n",
    "from torch import nn\n",
    "from torch.utils.data import DataLoader, RandomSampler\n",
    "from tqdm.notebook import tqdm\n",
    "\n",
    "from models.energy_models import EnergyAttentionRNN, EnergyAttentionRNN2D\n",
    "from data_utils.pytorch_datasets import EnergyDataset, EnergyDataset2D\n",
    "from plotting_utils.attention import attention_2D_viz"
   ]
  },
  {
   "cell_type": "code",
   "execution_count": 2,
   "metadata": {
    "scrolled": true
   },
   "outputs": [
    {
     "data": {
      "text/plain": [
       "EnergyAttentionRNN2D(\n",
       "  (rnn): GRU(1, 512, batch_first=True)\n",
       "  (linear): Linear(in_features=512, out_features=1, bias=True)\n",
       "  (attention_rows): MultiheadAttention(\n",
       "    (out_proj): Linear(in_features=512, out_features=512, bias=True)\n",
       "  )\n",
       "  (attention_cols): MultiheadAttention(\n",
       "    (out_proj): Linear(in_features=512, out_features=512, bias=True)\n",
       "  )\n",
       ")"
      ]
     },
     "execution_count": 2,
     "metadata": {},
     "output_type": "execute_result"
    }
   ],
   "source": [
    "checkpoint_path_2D = './model_weights/energy/rnn_attn/2D_GRU_1L_1H/model.ckpt'\n",
    "\n",
    "model_2D = EnergyAttentionRNN2D.load_from_checkpoint(checkpoint_path_2D)\n",
    "model_2D.eval()"
   ]
  },
  {
   "cell_type": "code",
   "execution_count": 3,
   "metadata": {},
   "outputs": [],
   "source": [
    "train_data_path = './data/train_data.hdf5'\n",
    "batch_size = 128\n",
    "n_random_samples = 3200\n",
    "\n",
    "ising_dataset = EnergyDataset2D(filepath=train_data_path)\n",
    "random_sampler = RandomSampler(ising_dataset, num_samples=n_random_samples, replacement=True)\n",
    "train_dataloader = DataLoader(\n",
    "    ising_dataset,\n",
    "    batch_size=batch_size,\n",
    "    sampler=random_sampler,\n",
    "    num_workers=0)"
   ]
  },
  {
   "cell_type": "code",
   "execution_count": 4,
   "metadata": {},
   "outputs": [
    {
     "data": {
      "application/vnd.jupyter.widget-view+json": {
       "model_id": "ce0f4e13d18648fcab9daef1a0eb7bd9",
       "version_major": 2,
       "version_minor": 0
      },
      "text/plain": [
       "HBox(children=(FloatProgress(value=0.0, max=25.0), HTML(value='')))"
      ]
     },
     "metadata": {},
     "output_type": "display_data"
    },
    {
     "name": "stdout",
     "output_type": "stream",
     "text": [
      "\n"
     ]
    }
   ],
   "source": [
    "attn_weights_rows = torch.zeros((batch_size, 63, 63))\n",
    "attn_weights_cols = torch.zeros((batch_size, 63, 63))\n",
    "y_preds = []\n",
    "y_true = []\n",
    "with torch.no_grad():\n",
    "    for x_row, x_col, y in tqdm(train_dataloader):\n",
    "        y_pred, attn_weights = model_2D(x_row, x_col)\n",
    "        if y_pred.shape[0] == batch_size:\n",
    "            attn_weights_rows += attn_weights[0]\n",
    "            attn_weights_cols += attn_weights[1]\n",
    "        y_preds.append(y_pred)\n",
    "        y_true.append(y)\n",
    "\n",
    "energies_pred = torch.cat(y_preds, axis=0)\n",
    "energies_pred_centered = energies_pred - torch.mean(energies_pred)\n",
    "\n",
    "energies_true = torch.cat(y_true, axis=0)\n",
    "energies_true_centered = energies_true- torch.mean(energies_true)\n",
    "attn_weights_sum = (attn_weights_rows, attn_weights_cols)"
   ]
  },
  {
   "cell_type": "code",
   "execution_count": 5,
   "metadata": {},
   "outputs": [
    {
     "data": {
      "text/plain": [
       "<matplotlib.colorbar.Colorbar at 0x7f129e1b6f70>"
      ]
     },
     "execution_count": 5,
     "metadata": {},
     "output_type": "execute_result"
    },
    {
     "data": {
      "image/png": "[encoded data removed]",
      "text/plain": [
       "<Figure size 288x288 with 2 Axes>"
      ]
     },
     "metadata": {
      "needs_background": "light"
     },
     "output_type": "display_data"
    }
   ],
   "source": [
    "row, col = 3, 4\n",
    "attn_viz = attention_2D_viz(attn_weights_sum, row, col)\n",
    "plt.matshow(attn_viz)\n",
    "plt.text(col, row, \"X\",ha=\"center\", va=\"center\", color=\"r\")\n",
    "plt.colorbar()"
   ]
  },
  {
   "cell_type": "code",
   "execution_count": null,
   "metadata": {},
   "outputs": [],
   "source": []
  }
 ],
 "metadata": {
  "kernelspec": {
   "display_name": "Python [conda env:wandl]",
   "language": "python",
   "name": "conda-env-wandl-py"
  },
  "language_info": {
   "codemirror_mode": {
    "name": "ipython",
    "version": 3
   },
   "file_extension": ".py",
   "mimetype": "text/x-python",
   "name": "python",
   "nbconvert_exporter": "python",
   "pygments_lexer": "ipython3",
   "version": "3.8.1"
  },
  "varInspector": {
   "cols": {
    "lenName": 16,
    "lenType": 16,
    "lenVar": 40
   },
   "kernels_config": {
    "python": {
     "delete_cmd_postfix": "",
     "delete_cmd_prefix": "del ",
     "library": "var_list.py",
     "varRefreshCmd": "print(var_dic_list())"
    },
    "r": {
     "delete_cmd_postfix": ") ",
     "delete_cmd_prefix": "rm(",
     "library": "var_list.r",
     "varRefreshCmd": "cat(var_dic_list()) "
    }
   },
   "types_to_exclude": [
    "module",
    "function",
    "builtin_function_or_method",
    "instance",
    "_Feature"
   ],
   "window_display": false
  }
 },
 "nbformat": 4,
 "nbformat_minor": 2
}

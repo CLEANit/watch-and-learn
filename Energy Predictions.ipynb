{
 "cells": [
  {
   "cell_type": "code",
   "execution_count": 1,
   "metadata": {},
   "outputs": [],
   "source": [
    "import torch\n",
    "import numpy as np\n",
    "import matplotlib.pyplot as plt\n",
    "\n",
    "from collections import defaultdict\n",
    "from torch import nn\n",
    "from torch.utils.data import DataLoader, RandomSampler\n",
    "from tqdm.notebook import tqdm\n",
    "\n",
    "from models.energy_models import EnergyAttentionRNN, EnergyAttentionRNN2D, EnergyRNN\n",
    "from models.probability_models import ProbabilityRNN, ProbabilityAttentionRNN\n",
    "from data_utils.pytorch_datasets import EnergyDataset, EnergyDataset2D, ProbabilityDataset"
   ]
  },
  {
   "cell_type": "markdown",
   "metadata": {},
   "source": [
    "## Datasets"
   ]
  },
  {
   "cell_type": "code",
   "execution_count": 2,
   "metadata": {},
   "outputs": [],
   "source": [
    "train_data_path = './data/train_data_32k.hdf5'\n",
    "batch_size = 128\n",
    "n_random_samples = 3200\n",
    "\n",
    "energy_dataset_2D = EnergyDataset2D(filepath=train_data_path)\n",
    "random_sampler_2D = RandomSampler(energy_dataset_2D, num_samples=n_random_samples, replacement=True)\n",
    "energy_loader_2D = DataLoader(\n",
    "    energy_dataset_2D,\n",
    "    batch_size=batch_size,\n",
    "    sampler=random_sampler_2D,\n",
    "    num_workers=0)"
   ]
  },
  {
   "cell_type": "markdown",
   "metadata": {},
   "source": [
    "## Energy Models"
   ]
  },
  {
   "cell_type": "code",
   "execution_count": 3,
   "metadata": {},
   "outputs": [
    {
     "data": {
      "text/plain": [
       "EnergyAttentionRNN2D(\n",
       "  (rnn): GRU(1, 512, batch_first=True)\n",
       "  (linear): Linear(in_features=512, out_features=1, bias=True)\n",
       "  (attention_rows): MultiheadAttention(\n",
       "    (out_proj): Linear(in_features=512, out_features=512, bias=True)\n",
       "  )\n",
       "  (attention_cols): MultiheadAttention(\n",
       "    (out_proj): Linear(in_features=512, out_features=512, bias=True)\n",
       "  )\n",
       ")"
      ]
     },
     "execution_count": 3,
     "metadata": {},
     "output_type": "execute_result"
    }
   ],
   "source": [
    "energy_gru_ckpt = './model_weights/energy/rnn/GRU_1L/model.ckpt'\n",
    "energy_lstm_ckpt = './model_weights/energy/rnn/LSTM_1L/model.ckpt'\n",
    "energy_attn_ckpt = './model_weights/energy/rnn_attn/GRU_1L_1H/model.ckpt'\n",
    "energy_2D_attn_ckpt = './model_weights/energy/rnn_attn/2D_GRU_1L_1H/model.ckpt'\n",
    "\n",
    "energy_gru = EnergyRNN.load_from_checkpoint(energy_gru_ckpt)\n",
    "energy_gru.eval()\n",
    "\n",
    "energy_lstm = EnergyRNN.load_from_checkpoint(energy_lstm_ckpt)\n",
    "energy_lstm.eval()\n",
    "\n",
    "energy_attn = EnergyAttentionRNN.load_from_checkpoint(energy_attn_ckpt)\n",
    "energy_attn.eval()\n",
    "\n",
    "energy_2D_attn = EnergyAttentionRNN2D.load_from_checkpoint(energy_2D_attn_ckpt)\n",
    "energy_2D_attn.eval()"
   ]
  },
  {
   "cell_type": "markdown",
   "metadata": {},
   "source": [
    "## Probability Models"
   ]
  },
  {
   "cell_type": "code",
   "execution_count": 4,
   "metadata": {},
   "outputs": [
    {
     "data": {
      "text/plain": [
       "ProbabilityAttentionRNN(\n",
       "  (rnn): GRU(1, 512, batch_first=True)\n",
       "  (linear): Linear(in_features=512, out_features=1, bias=True)\n",
       "  (attention): MultiheadAttention(\n",
       "    (out_proj): Linear(in_features=512, out_features=512, bias=True)\n",
       "  )\n",
       ")"
      ]
     },
     "execution_count": 4,
     "metadata": {},
     "output_type": "execute_result"
    }
   ],
   "source": [
    "prob_gru_ckpt = './model_weights/probability/rnn/GRU_1L/model.ckpt'\n",
    "prob_lstm_ckpt = './model_weights/probability/rnn/LSTM_1L/model.ckpt'\n",
    "prob_attn_ckpt = './model_weights/probability/rnn_attn/GRU_1L_1H/model.ckpt'\n",
    "\n",
    "prob_gru = ProbabilityRNN.load_from_checkpoint(prob_gru_ckpt)\n",
    "prob_gru.eval()\n",
    "\n",
    "prob_lstm = ProbabilityRNN.load_from_checkpoint(prob_lstm_ckpt)\n",
    "prob_lstm.eval()\n",
    "\n",
    "prob_attn = ProbabilityAttentionRNN.load_from_checkpoint(prob_attn_ckpt)\n",
    "prob_attn.eval()"
   ]
  },
  {
   "cell_type": "code",
   "execution_count": 5,
   "metadata": {},
   "outputs": [
    {
     "data": {
      "application/vnd.jupyter.widget-view+json": {
       "model_id": "81a334422d994a8392b46e231b8c5087",
       "version_major": 2,
       "version_minor": 0
      },
      "text/plain": [
       "HBox(children=(FloatProgress(value=0.0, max=25.0), HTML(value='')))"
      ]
     },
     "metadata": {},
     "output_type": "display_data"
    },
    {
     "name": "stdout",
     "output_type": "stream",
     "text": [
      "\n"
     ]
    }
   ],
   "source": [
    "preds = defaultdict(list)\n",
    "true_energy = []\n",
    "with torch.no_grad():\n",
    "    for x_row, x_col, y in tqdm(energy_loader_2D):\n",
    "        y_pred, _ = energy_2D_attn(x_row, x_col)\n",
    "        preds['energy_2D'].append(y_pred)\n",
    "        y_pred, _ = energy_attn(x_row)\n",
    "        preds['energy_attn'].append(y_pred)\n",
    "        y_pred = energy_lstm(x_row)\n",
    "        preds['energy_lstm'].append(y_pred)\n",
    "        y_pred = energy_gru(x_row)\n",
    "        preds['energy_gru'].append(y_pred)\n",
    "        \n",
    "        y_pred = prob_attn.predict_energy(x_row)\n",
    "        preds['prob_attn'].append(y_pred)\n",
    "        y_pred = prob_lstm.predict_energy(x_row)\n",
    "        preds['prob_lstm'].append(y_pred)\n",
    "        y_pred = prob_gru.predict_energy(x_row)\n",
    "        preds['prob_gru'].append(y_pred)\n",
    "        \n",
    "        true_energy.append(y)"
   ]
  },
  {
   "cell_type": "code",
   "execution_count": 6,
   "metadata": {},
   "outputs": [],
   "source": [
    "def center_predictions(preds_list):\n",
    "    preds_tensor = torch.cat(preds_list, axis=0)\n",
    "    return (preds_tensor - torch.mean(preds_tensor)).squeeze()"
   ]
  },
  {
   "cell_type": "code",
   "execution_count": 7,
   "metadata": {},
   "outputs": [
    {
     "data": {
      "application/vnd.jupyter.widget-view+json": {
       "model_id": "186e114d700f4d0584fd43a7396eb83f",
       "version_major": 2,
       "version_minor": 0
      },
      "text/plain": [
       "HBox(children=(FloatProgress(value=0.0, max=7.0), HTML(value='')))"
      ]
     },
     "metadata": {},
     "output_type": "display_data"
    },
    {
     "name": "stdout",
     "output_type": "stream",
     "text": [
      "\n"
     ]
    }
   ],
   "source": [
    "centered_preds = {}\n",
    "for model, model_preds in tqdm(preds.items()):\n",
    "    centered_preds[model] = center_predictions(model_preds)\n",
    "    \n",
    "true_centered = center_predictions(true_energy)"
   ]
  },
  {
   "cell_type": "code",
   "execution_count": 8,
   "metadata": {},
   "outputs": [
    {
     "data": {
      "application/vnd.jupyter.widget-view+json": {
       "model_id": "0056755e2b5f4815ad78f427a0fc0524",
       "version_major": 2,
       "version_minor": 0
      },
      "text/plain": [
       "HBox(children=(FloatProgress(value=0.0, max=7.0), HTML(value='')))"
      ]
     },
     "metadata": {},
     "output_type": "display_data"
    },
    {
     "name": "stdout",
     "output_type": "stream",
     "text": [
      "RMSE for energy_2D: 5.2982378005981445\n",
      "RMSE for energy_attn: 7.689065933227539\n",
      "RMSE for energy_lstm: 8.551366806030273\n",
      "RMSE for energy_gru: 9.297406196594238\n",
      "RMSE for prob_attn: 12.815935134887695\n",
      "RMSE for prob_lstm: 11.152807235717773\n",
      "RMSE for prob_gru: 11.293487548828125\n",
      "\n"
     ]
    }
   ],
   "source": [
    "criterion = nn.MSELoss()\n",
    "for model, model_preds in tqdm(centered_preds.items()):\n",
    "    rmse = torch.sqrt(criterion(true_centered, model_preds))\n",
    "    print(f\"RMSE for {model}: {rmse}\")"
   ]
  },
  {
   "cell_type": "code",
   "execution_count": 15,
   "metadata": {},
   "outputs": [],
   "source": [
    "def plot_difference(true_centered, model_centered_preds, ax, label, delta=False):\n",
    "\n",
    "    diffs = model_centered_preds - true_centered\n",
    "    buckets = defaultdict(list)\n",
    "    for true, pred in zip(true_centered, diffs):\n",
    "        buckets[true].append(pred)\n",
    "\n",
    "    n_buckets = len(buckets)\n",
    "    y_high = np.zeros(n_buckets)\n",
    "    y_center = np.zeros(n_buckets)\n",
    "    y_low = np.zeros(n_buckets)\n",
    "    x_vals = np.zeros(n_buckets)\n",
    "    for i, key in enumerate(sorted(buckets.keys())):\n",
    "        x_vals[i] = key\n",
    "        diffs_arr = np.array(buckets[key])\n",
    "        mean = np.mean(diffs_arr)\n",
    "        std = np.std(diffs_arr)\n",
    "        y_low[i] = mean - std\n",
    "        y_center[i] = mean\n",
    "        y_high[i] = mean + std\n",
    "        \n",
    "    if delta:\n",
    "        ax.fill_between(x_vals, y_high, y_low, alpha=0.2)\n",
    "    ax.plot(x_vals, y_center, label=label)"
   ]
  },
  {
   "cell_type": "code",
   "execution_count": 18,
   "metadata": {},
   "outputs": [
    {
     "data": {
      "application/vnd.jupyter.widget-view+json": {
       "model_id": "5ba93a5096d041d486d00a115e961781",
       "version_major": 2,
       "version_minor": 0
      },
      "text/plain": [
       "HBox(children=(FloatProgress(value=0.0, max=7.0), HTML(value='')))"
      ]
     },
     "metadata": {},
     "output_type": "display_data"
    },
    {
     "name": "stdout",
     "output_type": "stream",
     "text": [
      "\n"
     ]
    },
    {
     "data": {
      "text/plain": [
       "<matplotlib.lines.Line2D at 0x7fe46a48d700>"
      ]
     },
     "execution_count": 18,
     "metadata": {},
     "output_type": "execute_result"
    },
    {
     "data": {
      "image/png": "[encoded data removed]",
      "text/plain": [
       "<Figure size 432x288 with 1 Axes>"
      ]
     },
     "metadata": {
      "needs_background": "light"
     },
     "output_type": "display_data"
    }
   ],
   "source": [
    "ax = plt.axes()\n",
    "selected_models = ['energy_2D', 'prob_gru']\n",
    "delta = True\n",
    "for model, model_preds in tqdm(centered_preds.items()):\n",
    "    if model in selected_models:\n",
    "        plot_difference(true_centered.numpy(), model_preds.numpy(), ax, model, delta)\n",
    "        \n",
    "ax.legend()\n",
    "ax.axhline(0, linestyle='--', c='black')"
   ]
  },
  {
   "cell_type": "code",
   "execution_count": null,
   "metadata": {},
   "outputs": [],
   "source": []
  }
 ],
 "metadata": {
  "kernelspec": {
   "display_name": "Python [conda env:wandl]",
   "language": "python",
   "name": "conda-env-wandl-py"
  },
  "language_info": {
   "codemirror_mode": {
    "name": "ipython",
    "version": 3
   },
   "file_extension": ".py",
   "mimetype": "text/x-python",
   "name": "python",
   "nbconvert_exporter": "python",
   "pygments_lexer": "ipython3",
   "version": "3.8.1"
  },
  "varInspector": {
   "cols": {
    "lenName": 16,
    "lenType": 16,
    "lenVar": 40
   },
   "kernels_config": {
    "python": {
     "delete_cmd_postfix": "",
     "delete_cmd_prefix": "del ",
     "library": "var_list.py",
     "varRefreshCmd": "print(var_dic_list())"
    },
    "r": {
     "delete_cmd_postfix": ") ",
     "delete_cmd_prefix": "rm(",
     "library": "var_list.r",
     "varRefreshCmd": "cat(var_dic_list()) "
    }
   },
   "types_to_exclude": [
    "module",
    "function",
    "builtin_function_or_method",
    "instance",
    "_Feature"
   ],
   "window_display": false
  }
 },
 "nbformat": 4,
 "nbformat_minor": 2
}

{
 "cells": [
  {
   "cell_type": "code",
   "execution_count": 1,
   "metadata": {},
   "outputs": [],
   "source": [
    "import torch\n",
    "import matplotlib.pyplot as plt\n",
    "\n",
    "from torch import nn\n",
    "from torch.utils.data import DataLoader, RandomSampler\n",
    "from tqdm.notebook import tqdm\n",
    "\n",
    "from models.energy_models import EnergyAttentionRNN, EnergyAttentionRNN2D, EnergyRNN\n",
    "from models.probability_models import ProbabilityRNN, ProbabilityAttentionRNN\n",
    "from data_utils.pytorch_datasets import EnergyDataset, EnergyDataset2D, ProbabilityDataset"
   ]
  },
  {
   "cell_type": "markdown",
   "metadata": {},
   "source": [
    "## Datasets"
   ]
  },
  {
   "cell_type": "code",
   "execution_count": 12,
   "metadata": {},
   "outputs": [],
   "source": [
    "train_data_path = './data/train_data_32k.hdf5'\n",
    "batch_size = 128\n",
    "n_random_samples = 3200\n",
    "\n",
    "energy_dataset_2D = EnergyDataset2D(filepath=train_data_path)\n",
    "random_sampler_2D = RandomSampler(energy_dataset_2D, num_samples=n_random_samples, replacement=True)\n",
    "energy_loader_2D = DataLoader(\n",
    "    energy_dataset_2D,\n",
    "    batch_size=batch_size,\n",
    "    sampler=random_sampler_2D,\n",
    "    num_workers=0)\n",
    "\n",
    "energy_dataset = EnergyDataset(filepath=train_data_path)\n",
    "random_sampler = RandomSampler(energy_dataset, num_samples=n_random_samples, replacement=True)\n",
    "energy_loader = DataLoader(\n",
    "    energy_dataset,\n",
    "    batch_size=batch_size,\n",
    "    sampler=random_sampler,\n",
    "    num_workers=0)\n",
    "\n",
    "prob_dataset = EnergyDataset(filepath=train_data_path)\n",
    "prob_random_sampler = RandomSampler(prob_dataset, num_samples=n_random_samples, replacement=True)\n",
    "prob_loader = DataLoader(\n",
    "    prob_dataset,\n",
    "    batch_size=batch_size,\n",
    "    sampler=prob_random_sampler,\n",
    "    num_workers=0)"
   ]
  },
  {
   "cell_type": "markdown",
   "metadata": {},
   "source": [
    "## Energy Models"
   ]
  },
  {
   "cell_type": "code",
   "execution_count": 3,
   "metadata": {},
   "outputs": [
    {
     "data": {
      "text/plain": [
       "EnergyAttentionRNN2D(\n",
       "  (rnn): GRU(1, 512, batch_first=True)\n",
       "  (linear): Linear(in_features=512, out_features=1, bias=True)\n",
       "  (attention_rows): MultiheadAttention(\n",
       "    (out_proj): Linear(in_features=512, out_features=512, bias=True)\n",
       "  )\n",
       "  (attention_cols): MultiheadAttention(\n",
       "    (out_proj): Linear(in_features=512, out_features=512, bias=True)\n",
       "  )\n",
       ")"
      ]
     },
     "execution_count": 3,
     "metadata": {},
     "output_type": "execute_result"
    }
   ],
   "source": [
    "energy_gru_ckpt = './model_weights/energy/rnn/GRU_1L/model.ckpt'\n",
    "energy_lstm_ckpt = './model_weights/energy/rnn/LSTM_1L/model.ckpt'\n",
    "energy_attn_ckpt = './model_weights/energy/rnn_attn/GRU_1L_1H/model.ckpt'\n",
    "energy_2D_attn_ckpt = './model_weights/energy/rnn_attn/2D_GRU_1L_1H/model.ckpt'\n",
    "\n",
    "energy_gru = EnergyRNN.load_from_checkpoint(energy_gru_ckpt)\n",
    "energy_gru.eval()\n",
    "\n",
    "energy_lstm = EnergyRNN.load_from_checkpoint(energy_lstm_ckpt)\n",
    "energy_lstm.eval()\n",
    "\n",
    "energy_attn = EnergyAttentionRNN.load_from_checkpoint(energy_attn_ckpt)\n",
    "energy_attn.eval()\n",
    "\n",
    "energy_2D_attn = EnergyAttentionRNN2D.load_from_checkpoint(energy_2D_attn_ckpt)\n",
    "energy_2D_attn.eval()"
   ]
  },
  {
   "cell_type": "code",
   "execution_count": 4,
   "metadata": {},
   "outputs": [
    {
     "data": {
      "application/vnd.jupyter.widget-view+json": {
       "model_id": "e0d3be9d2ac348b3844f50045c8b1bac",
       "version_major": 2,
       "version_minor": 0
      },
      "text/plain": [
       "HBox(children=(FloatProgress(value=0.0, max=25.0), HTML(value='')))"
      ]
     },
     "metadata": {},
     "output_type": "display_data"
    },
    {
     "name": "stdout",
     "output_type": "stream",
     "text": [
      "\n"
     ]
    }
   ],
   "source": [
    "preds_energy_2D = []\n",
    "true_energy_2D = []\n",
    "with torch.no_grad():\n",
    "    for x_row, x_col, y in tqdm(energy_loader_2D):\n",
    "        y_pred, _ = energy_2D_attn(x_row, x_col)\n",
    "        preds_energy_2D.append(y_pred)\n",
    "        true_energy_2D.append(y)"
   ]
  },
  {
   "cell_type": "code",
   "execution_count": 5,
   "metadata": {},
   "outputs": [
    {
     "data": {
      "application/vnd.jupyter.widget-view+json": {
       "model_id": "45e49c7f7fe14eed99f1e1f05d31a534",
       "version_major": 2,
       "version_minor": 0
      },
      "text/plain": [
       "HBox(children=(FloatProgress(value=0.0, max=25.0), HTML(value='')))"
      ]
     },
     "metadata": {},
     "output_type": "display_data"
    },
    {
     "name": "stdout",
     "output_type": "stream",
     "text": [
      "\n"
     ]
    }
   ],
   "source": [
    "preds_energy_lstm = []\n",
    "preds_energy_gru = []\n",
    "preds_energy_attn = []\n",
    "true_energy_1D = []\n",
    "with torch.no_grad():\n",
    "    for x, y in tqdm(energy_loader):\n",
    "        y_pred, _ = energy_attn(x)\n",
    "        preds_energy_attn.append(y_pred)\n",
    "        y_pred = energy_lstm(x)\n",
    "        preds_energy_lstm.append(y_pred)\n",
    "        y_pred = energy_gru(x)\n",
    "        preds_energy_gru.append(y_pred)\n",
    "\n",
    "        true_energy_1D.append(y)"
   ]
  },
  {
   "cell_type": "code",
   "execution_count": 6,
   "metadata": {},
   "outputs": [],
   "source": [
    "def center_predictions(preds_list):\n",
    "    preds_tensor = torch.cat(preds_list, axis=0)\n",
    "    return preds_tensor - torch.mean(preds_tensor)"
   ]
  },
  {
   "cell_type": "code",
   "execution_count": 7,
   "metadata": {},
   "outputs": [],
   "source": [
    "centered_energy_2D = center_predictions(preds_energy_2D)\n",
    "centered_energy_lstm = center_predictions(preds_energy_lstm)\n",
    "centered_energy_gru = center_predictions(preds_energy_gru)\n",
    "centered_energy_attn = center_predictions(preds_energy_attn)\n",
    "\n",
    "true_centered_energy_2D = center_predictions(true_energy_2D)\n",
    "true_centered_energy_1D = center_predictions(true_energy_1D)"
   ]
  },
  {
   "cell_type": "markdown",
   "metadata": {},
   "source": [
    "### Predictions"
   ]
  },
  {
   "cell_type": "code",
   "execution_count": 8,
   "metadata": {},
   "outputs": [
    {
     "name": "stdout",
     "output_type": "stream",
     "text": [
      "RMSE for 2D Model: 5.375464916229248\n",
      "RMSE for Attention Model: 7.628973007202148\n",
      "RMSE for LSTM Model: 8.55644416809082\n",
      "RMSE for GRU Model: 9.345841407775879\n"
     ]
    }
   ],
   "source": [
    "criterion = nn.MSELoss()\n",
    "\n",
    "rmse_2D = torch.sqrt(criterion(true_centered_energy_2D, centered_energy_2D))\n",
    "print(f\"RMSE for 2D Model: {rmse_2D}\")\n",
    "\n",
    "rmse_attn = torch.sqrt(criterion(true_centered_energy_1D, centered_energy_attn))\n",
    "print(f\"RMSE for Attention Model: {rmse_attn}\")\n",
    "\n",
    "rmse_lstm = torch.sqrt(criterion(true_centered_energy_1D, centered_energy_lstm))\n",
    "print(f\"RMSE for LSTM Model: {rmse_lstm}\")\n",
    "\n",
    "rmse_gru = torch.sqrt(criterion(true_centered_energy_1D, centered_energy_gru))\n",
    "print(f\"RMSE for GRU Model: {rmse_gru}\")"
   ]
  },
  {
   "cell_type": "markdown",
   "metadata": {},
   "source": [
    "## Probability Models"
   ]
  },
  {
   "cell_type": "code",
   "execution_count": 9,
   "metadata": {},
   "outputs": [
    {
     "data": {
      "text/plain": [
       "ProbabilityAttentionRNN(\n",
       "  (rnn): GRU(1, 512, batch_first=True)\n",
       "  (linear): Linear(in_features=512, out_features=1, bias=True)\n",
       "  (attention): MultiheadAttention(\n",
       "    (out_proj): Linear(in_features=512, out_features=512, bias=True)\n",
       "  )\n",
       ")"
      ]
     },
     "execution_count": 9,
     "metadata": {},
     "output_type": "execute_result"
    }
   ],
   "source": [
    "prob_gru_ckpt = './model_weights/probability/rnn/GRU_1L/model.ckpt'\n",
    "prob_lstm_ckpt = './model_weights/probability/rnn/LSTM_1L/model.ckpt'\n",
    "prob_attn_ckpt = './model_weights/probability/rnn_attn/GRU_1L_1H/model.ckpt'\n",
    "\n",
    "prob_gru = ProbabilityRNN.load_from_checkpoint(prob_gru_ckpt)\n",
    "prob_gru.eval()\n",
    "\n",
    "prob_lstm = ProbabilityRNN.load_from_checkpoint(prob_lstm_ckpt)\n",
    "prob_lstm.eval()\n",
    "\n",
    "prob_attn = ProbabilityAttentionRNN.load_from_checkpoint(prob_attn_ckpt)\n",
    "prob_attn.eval()"
   ]
  },
  {
   "cell_type": "code",
   "execution_count": 14,
   "metadata": {},
   "outputs": [
    {
     "data": {
      "application/vnd.jupyter.widget-view+json": {
       "model_id": "5012b2901d11495fb0d33691a417d353",
       "version_major": 2,
       "version_minor": 0
      },
      "text/plain": [
       "HBox(children=(FloatProgress(value=0.0, max=25.0), HTML(value='')))"
      ]
     },
     "metadata": {},
     "output_type": "display_data"
    },
    {
     "name": "stdout",
     "output_type": "stream",
     "text": [
      "\n"
     ]
    }
   ],
   "source": [
    "preds_prob_lstm = []\n",
    "preds_prob_gru = []\n",
    "preds_prob_attn = []\n",
    "true_energy_prob = []\n",
    "with torch.no_grad():\n",
    "    for x, y in tqdm(prob_loader):\n",
    "        y_pred = prob_attn.predict_energy(x)\n",
    "        preds_prob_attn.append(y_pred)\n",
    "        y_pred = prob_lstm.predict_energy(x)\n",
    "        preds_prob_lstm.append(y_pred)\n",
    "        y_pred = prob_gru.predict_energy(x)\n",
    "        preds_prob_gru.append(y_pred)\n",
    "        \n",
    "        true_energy_prob.append(y)"
   ]
  },
  {
   "cell_type": "code",
   "execution_count": 15,
   "metadata": {},
   "outputs": [],
   "source": [
    "centered_prob_lstm = center_predictions(preds_prob_lstm)\n",
    "centered_prob_gru = center_predictions(preds_prob_gru)\n",
    "centered_prob_attn = center_predictions(preds_prob_attn)\n",
    "\n",
    "true_centered_prob = center_predictions(true_energy_prob)"
   ]
  },
  {
   "cell_type": "code",
   "execution_count": 16,
   "metadata": {},
   "outputs": [
    {
     "name": "stdout",
     "output_type": "stream",
     "text": [
      "RMSE for Attention Model: 12.718344688415527\n",
      "RMSE for LSTM Model: 11.144323348999023\n",
      "RMSE for GRU Model: 11.343841552734375\n"
     ]
    }
   ],
   "source": [
    "criterion = nn.MSELoss()\n",
    "\n",
    "rmse_attn_prob = torch.sqrt(criterion(true_centered_prob, centered_prob_attn))\n",
    "print(f\"RMSE for Attention Model: {rmse_attn_prob}\")\n",
    "\n",
    "rmse_lstm_prob = torch.sqrt(criterion(true_centered_prob, centered_prob_lstm))\n",
    "print(f\"RMSE for LSTM Model: {rmse_lstm_prob}\")\n",
    "\n",
    "rmse_gru_prob = torch.sqrt(criterion(true_centered_prob, centered_prob_gru))\n",
    "print(f\"RMSE for GRU Model: {rmse_gru_prob}\")"
   ]
  },
  {
   "cell_type": "code",
   "execution_count": null,
   "metadata": {},
   "outputs": [],
   "source": []
  }
 ],
 "metadata": {
  "kernelspec": {
   "display_name": "Python [conda env:wandl]",
   "language": "python",
   "name": "conda-env-wandl-py"
  },
  "language_info": {
   "codemirror_mode": {
    "name": "ipython",
    "version": 3
   },
   "file_extension": ".py",
   "mimetype": "text/x-python",
   "name": "python",
   "nbconvert_exporter": "python",
   "pygments_lexer": "ipython3",
   "version": "3.8.1"
  },
  "varInspector": {
   "cols": {
    "lenName": 16,
    "lenType": 16,
    "lenVar": 40
   },
   "kernels_config": {
    "python": {
     "delete_cmd_postfix": "",
     "delete_cmd_prefix": "del ",
     "library": "var_list.py",
     "varRefreshCmd": "print(var_dic_list())"
    },
    "r": {
     "delete_cmd_postfix": ") ",
     "delete_cmd_prefix": "rm(",
     "library": "var_list.r",
     "varRefreshCmd": "cat(var_dic_list()) "
    }
   },
   "types_to_exclude": [
    "module",
    "function",
    "builtin_function_or_method",
    "instance",
    "_Feature"
   ],
   "window_display": false
  }
 },
 "nbformat": 4,
 "nbformat_minor": 2
}

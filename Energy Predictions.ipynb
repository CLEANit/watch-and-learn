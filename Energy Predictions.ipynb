{
 "cells": [
  {
   "cell_type": "code",
   "execution_count": 1,
   "metadata": {},
   "outputs": [],
   "source": [
    "import os\n",
    "import torch\n",
    "import numpy as np\n",
    "import matplotlib.pyplot as plt\n",
    "\n",
    "from collections import defaultdict\n",
    "from torch import nn\n",
    "from torch.utils.data import DataLoader, RandomSampler\n",
    "from tqdm.notebook import tqdm\n",
    "\n",
    "from models.energy_models import (EnergyRNN, EnergyRNN2D,\n",
    "                                  EnergyAttentionRNN, EnergyAttentionRNN2D)\n",
    "from models.probability_models import (ProbabilityRNN, ProbabilityRNN2D,\n",
    "                                       ProbabilityAttentionRNN, ProbabilityAttentionRNN2D)\n",
    "from data_utils.pytorch_datasets import EnergyDataset2D"
   ]
  },
  {
   "cell_type": "markdown",
   "metadata": {},
   "source": [
    "## Datasets"
   ]
  },
  {
   "cell_type": "code",
   "execution_count": 8,
   "metadata": {},
   "outputs": [],
   "source": [
    "train_data_path = './data/eval_data.hdf5'\n",
    "batch_size = 128\n",
    "n_random_samples = 32000\n",
    "\n",
    "energy_dataset_2D = EnergyDataset2D(filepath=train_data_path)\n",
    "random_sampler_2D = RandomSampler(energy_dataset_2D, num_samples=n_random_samples, replacement=True)\n",
    "energy_loader_2D = DataLoader(\n",
    "    energy_dataset_2D,\n",
    "    batch_size=batch_size,\n",
    "    sampler=random_sampler_2D,\n",
    "    num_workers=0)"
   ]
  },
  {
   "cell_type": "markdown",
   "metadata": {},
   "source": [
    "## Energy Models"
   ]
  },
  {
   "cell_type": "code",
   "execution_count": 9,
   "metadata": {},
   "outputs": [],
   "source": [
    "energy_rnn_base = './model_weights/energy/rnn'\n",
    "energy_attn_base = './model_weights/energy/rnn_attn'\n",
    "energy_rnn_paths = {model: os.path.join(energy_rnn_base, model, 'model.ckpt') \n",
    "                     for model in os.listdir(energy_rnn_base)}\n",
    "energy_attn_paths = {model: os.path.join(energy_attn_base, model, 'model.ckpt') \n",
    "                      for model in os.listdir(energy_attn_base)}"
   ]
  },
  {
   "cell_type": "code",
   "execution_count": 10,
   "metadata": {},
   "outputs": [],
   "source": [
    "energy_rnn_models = {}\n",
    "energy_attn_models = {}\n",
    "for model, path in energy_rnn_paths.items():\n",
    "    if '2D' in model:\n",
    "        energy_rnn_models[model] = EnergyRNN2D.load_from_checkpoint(path).eval()\n",
    "    else:\n",
    "        energy_rnn_models[model] = EnergyRNN.load_from_checkpoint(path).eval()\n",
    "        \n",
    "for model, path in energy_attn_paths.items():\n",
    "    if '2D' in model:\n",
    "        energy_attn_models[model] = EnergyAttentionRNN2D.load_from_checkpoint(path).eval()\n",
    "    else:\n",
    "        energy_attn_models[model] = EnergyAttentionRNN.load_from_checkpoint(path).eval()"
   ]
  },
  {
   "cell_type": "markdown",
   "metadata": {},
   "source": [
    "## Probability Models"
   ]
  },
  {
   "cell_type": "code",
   "execution_count": 11,
   "metadata": {},
   "outputs": [],
   "source": [
    "prob_rnn_base = './model_weights/probability/rnn'\n",
    "prob_attn_base = './model_weights/probability/rnn_attn'\n",
    "prob_rnn_paths = {model: os.path.join(prob_rnn_base, model, 'model.ckpt') \n",
    "                     for model in os.listdir(prob_rnn_base)}\n",
    "prob_attn_paths = {model: os.path.join(prob_attn_base, model, 'model.ckpt') \n",
    "                      for model in os.listdir(prob_attn_base)}"
   ]
  },
  {
   "cell_type": "code",
   "execution_count": 12,
   "metadata": {},
   "outputs": [],
   "source": [
    "prob_rnn_models = {}\n",
    "prob_attn_models = {}\n",
    "for model, path in prob_rnn_paths.items():\n",
    "    if '2D' in model:\n",
    "        prob_rnn_models[model] = ProbabilityRNN2D.load_from_checkpoint(path).eval()\n",
    "    else:\n",
    "        prob_rnn_models[model] = ProbabilityRNN.load_from_checkpoint(path).eval()\n",
    "        \n",
    "for model, path in prob_attn_paths.items():\n",
    "    if '2D' in model:\n",
    "        prob_attn_models[model] = ProbabilityAttentionRNN2D.load_from_checkpoint(path).eval()\n",
    "    else:\n",
    "        prob_attn_models[model] = ProbabilityAttentionRNN.load_from_checkpoint(path).eval()"
   ]
  },
  {
   "cell_type": "markdown",
   "metadata": {},
   "source": [
    "## Generate Predictions"
   ]
  },
  {
   "cell_type": "code",
   "execution_count": 13,
   "metadata": {},
   "outputs": [
    {
     "data": {
      "application/vnd.jupyter.widget-view+json": {
       "model_id": "054e9898deb04b539b1ae02dedf8d833",
       "version_major": 2,
       "version_minor": 0
      },
      "text/plain": [
       "HBox(children=(FloatProgress(value=0.0, max=250.0), HTML(value='')))"
      ]
     },
     "metadata": {},
     "output_type": "display_data"
    },
    {
     "name": "stdout",
     "output_type": "stream",
     "text": [
      "\n"
     ]
    }
   ],
   "source": [
    "energy_rnn_preds = defaultdict(list)\n",
    "energy_attn_preds = defaultdict(list)\n",
    "prob_rnn_preds = defaultdict(list)\n",
    "prob_attn_preds = defaultdict(list)\n",
    "true_energy = []\n",
    "with torch.no_grad():\n",
    "    for x_row, x_col, y in tqdm(energy_loader_2D):\n",
    "        for model_name, model in energy_attn_models.items():\n",
    "            if '2D' in model_name:\n",
    "                y_pred, _ = model(x_row, x_col)\n",
    "            else:\n",
    "                y_pred, _ = model(x_row)\n",
    "            energy_attn_preds[model_name].append(y_pred)\n",
    "                \n",
    "        for model_name, model in energy_rnn_models.items():\n",
    "            if '2D' in model_name:\n",
    "                y_pred = model(x_row, x_col)\n",
    "            else:\n",
    "                y_pred = model(x_row)\n",
    "            energy_rnn_preds[model_name].append(y_pred)\n",
    "            \n",
    "        for model_name, model in prob_attn_models.items():\n",
    "            if '2D' in model_name:\n",
    "                y_pred = model.predict_energy(x_row, x_col)\n",
    "            else:\n",
    "                y_pred = model.predict_energy(x_row)\n",
    "            prob_attn_preds[model_name].append(y_pred)\n",
    "                \n",
    "        for model_name, model in prob_rnn_models.items():\n",
    "            if '2D' in model_name:\n",
    "                y_pred = model.predict_energy(x_row, x_col)\n",
    "            else:\n",
    "                y_pred = model.predict_energy(x_row)\n",
    "            prob_rnn_preds[model_name].append(y_pred)\n",
    "        \n",
    "        true_energy.append(y)"
   ]
  },
  {
   "cell_type": "code",
   "execution_count": 14,
   "metadata": {},
   "outputs": [],
   "source": [
    "def center_predictions(preds_list):\n",
    "    preds_tensor = torch.cat(preds_list, axis=0)\n",
    "    return (preds_tensor - torch.mean(preds_tensor)).squeeze()"
   ]
  },
  {
   "cell_type": "code",
   "execution_count": 15,
   "metadata": {},
   "outputs": [],
   "source": [
    "centered_energy_rnn_preds = {}\n",
    "centered_energy_attn_preds = {}\n",
    "centered_prob_rnn_preds = {}\n",
    "centered_prob_attn_preds = {}\n",
    "\n",
    "for model, model_preds in energy_rnn_preds.items():\n",
    "    centered_energy_rnn_preds[model] = center_predictions(model_preds)\n",
    "    \n",
    "for model, model_preds in energy_attn_preds.items():\n",
    "    centered_energy_attn_preds[model] = center_predictions(model_preds)\n",
    "    \n",
    "for model, model_preds in prob_rnn_preds.items():\n",
    "    centered_prob_rnn_preds[model] = center_predictions(model_preds)\n",
    "    \n",
    "for model, model_preds in prob_attn_preds.items():\n",
    "    centered_prob_attn_preds[model] = center_predictions(model_preds)\n",
    "    \n",
    "true_centered = center_predictions(true_energy)"
   ]
  },
  {
   "cell_type": "code",
   "execution_count": 16,
   "metadata": {},
   "outputs": [],
   "source": [
    "criterion = nn.MSELoss()\n",
    "rmse_values = {}\n",
    "for model, model_preds in centered_energy_rnn_preds.items():\n",
    "    rmse = torch.sqrt(criterion(true_centered, model_preds))\n",
    "    rmse_values['energy_rnn/' + model] = rmse.item()\n",
    "    \n",
    "for model, model_preds in centered_energy_attn_preds.items():\n",
    "    rmse = torch.sqrt(criterion(true_centered, model_preds))\n",
    "    rmse_values['energy_attn/' + model] = rmse.item()\n",
    "    \n",
    "for model, model_preds in centered_prob_rnn_preds.items():\n",
    "    rmse = torch.sqrt(criterion(true_centered, model_preds))\n",
    "    rmse_values['prob_rnn/' + model] = rmse.item()\n",
    "    \n",
    "for model, model_preds in centered_prob_attn_preds.items():\n",
    "    rmse = torch.sqrt(criterion(true_centered, model_preds))\n",
    "    rmse_values['prob_attn/' + model] = rmse.item()"
   ]
  },
  {
   "cell_type": "code",
   "execution_count": 17,
   "metadata": {},
   "outputs": [
    {
     "data": {
      "text/plain": [
       "{'energy_attn/2D_GRU_1L_1H_Bi': 7.798737525939941,\n",
       " 'energy_attn/2D_GRU_1L_1H': 10.246950149536133,\n",
       " 'energy_attn/GRU_1L_1H_Bi': 11.24624252319336,\n",
       " 'energy_rnn/2D_GRU_1L_Bi': 12.700359344482422,\n",
       " 'energy_attn/GRU_1L_1H': 12.718523025512695,\n",
       " 'energy_rnn/GRU_1L_Bi': 13.592005729675293,\n",
       " 'energy_rnn/2D_GRU_1L': 14.18588638305664,\n",
       " 'energy_rnn/LSTM_1L_Bi': 14.250161170959473,\n",
       " 'energy_rnn/LSTM_1L': 15.372072219848633,\n",
       " 'energy_rnn/GRU_1L': 15.761507987976074,\n",
       " 'prob_rnn/GRU_1L': 19.862607955932617,\n",
       " 'prob_rnn/LSTM_1L': 19.87568473815918,\n",
       " 'prob_rnn/2D_GRU_1L': 20.062658309936523,\n",
       " 'prob_attn/2D_GRU_1L_1H': 22.19356346130371,\n",
       " 'prob_rnn/2D_GRU_1L_Bi': 22.524761199951172,\n",
       " 'prob_rnn/GRU_1L_Bi': 24.14615249633789,\n",
       " 'prob_rnn/LSTM_1L_Bi': 24.21211814880371,\n",
       " 'prob_attn/2D_GRU_1L_1H_Bi': 24.559297561645508,\n",
       " 'prob_attn/GRU_1L_1H_Bi': 25.790355682373047,\n",
       " 'prob_attn/GRU_1L_1H': 27.07417106628418}"
      ]
     },
     "execution_count": 17,
     "metadata": {},
     "output_type": "execute_result"
    }
   ],
   "source": [
    "{k: v for k, v in sorted(rmse_values.items(), key=lambda item: item[1])}"
   ]
  },
  {
   "cell_type": "code",
   "execution_count": 18,
   "metadata": {},
   "outputs": [],
   "source": [
    "def plot_difference(true_centered, model_centered_preds, ax, label, delta=False):\n",
    "\n",
    "    diffs = model_centered_preds - true_centered\n",
    "    buckets = defaultdict(list)\n",
    "    for true, pred in zip(true_centered, diffs):\n",
    "        buckets[true].append(pred)\n",
    "\n",
    "    n_buckets = len(buckets)\n",
    "    y_high = np.zeros(n_buckets)\n",
    "    y_center = np.zeros(n_buckets)\n",
    "    y_low = np.zeros(n_buckets)\n",
    "    x_vals = np.zeros(n_buckets)\n",
    "    for i, key in enumerate(sorted(buckets.keys())):\n",
    "        x_vals[i] = key\n",
    "        diffs_arr = np.array(buckets[key])\n",
    "        mean = np.mean(diffs_arr)\n",
    "        std = np.std(diffs_arr)\n",
    "        y_low[i] = mean - 2*std\n",
    "        y_center[i] = mean\n",
    "        y_high[i] = mean + 2*std\n",
    "        \n",
    "    if delta:\n",
    "        ax.fill_between(x_vals, y_high, y_low, alpha=0.2)\n",
    "    ax.plot(x_vals, y_center, label=label)"
   ]
  },
  {
   "cell_type": "code",
   "execution_count": 21,
   "metadata": {},
   "outputs": [
    {
     "data": {
      "text/plain": [
       "Text(0.5, 0, '$E(\\\\sigma_{i}) - \\\\overline{E(\\\\sigma)}$')"
      ]
     },
     "execution_count": 21,
     "metadata": {},
     "output_type": "execute_result"
    },
    {
     "data": {
      "image/png": "[encoded data removed]",
      "text/plain": [
       "<Figure size 1080x576 with 1 Axes>"
      ]
     },
     "metadata": {
      "needs_background": "light"
     },
     "output_type": "display_data"
    }
   ],
   "source": [
    "plt.style.use('seaborn-poster')\n",
    "fig, ax = plt.subplots(figsize=(15, 8))\n",
    "delta = True\n",
    "\n",
    "best_model = '2D_GRU_1L_Bi'\n",
    "best_preds = centered_energy_rnn_preds[best_model]\n",
    "ref_model = 'GRU_1L'\n",
    "ref_preds = centered_prob_rnn_preds[ref_model]\n",
    "\n",
    "plot_difference(true_centered.numpy(), best_preds.numpy(), ax, 'Extended Model', delta)\n",
    "plot_difference(true_centered.numpy(), ref_preds.numpy(), ax, 'Original Model', delta)\n",
    "ax.legend()\n",
    "ax.axhline(0, linestyle='--', c='black')\n",
    "ax.set_ylabel(r\"${E}'(\\sigma_{i}) - E(\\sigma_{i})- \\left(\\overline{{E}'(\\sigma)} - \\overline{E(\\sigma)}\\right)$\")\n",
    "ax.set_xlabel(r\"$E(\\sigma_{i}) - \\overline{E(\\sigma)}$\")"
   ]
  },
  {
   "cell_type": "code",
   "execution_count": 22,
   "metadata": {},
   "outputs": [],
   "source": [
    "fig.savefig('predictions_plot.png')"
   ]
  },
  {
   "cell_type": "code",
   "execution_count": null,
   "metadata": {},
   "outputs": [],
   "source": []
  }
 ],
 "metadata": {
  "kernelspec": {
   "display_name": "Python [conda env:wandl]",
   "language": "python",
   "name": "conda-env-wandl-py"
  },
  "varInspector": {
   "cols": {
    "lenName": 16,
    "lenType": 16,
    "lenVar": 40
   },
   "kernels_config": {
    "python": {
     "delete_cmd_postfix": "",
     "delete_cmd_prefix": "del ",
     "library": "var_list.py",
     "varRefreshCmd": "print(var_dic_list())"
    },
    "r": {
     "delete_cmd_postfix": ") ",
     "delete_cmd_prefix": "rm(",
     "library": "var_list.r",
     "varRefreshCmd": "cat(var_dic_list()) "
    }
   },
   "types_to_exclude": [
    "module",
    "function",
    "builtin_function_or_method",
    "instance",
    "_Feature"
   ],
   "window_display": false
  }
 },
 "nbformat": 4,
 "nbformat_minor": 2
}

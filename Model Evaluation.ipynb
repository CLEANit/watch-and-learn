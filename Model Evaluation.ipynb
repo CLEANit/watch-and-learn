{
 "cells": [
  {
   "cell_type": "markdown",
   "metadata": {},
   "source": [
    "# Model Evaluation\n",
    "\n",
    "**The goal of the this notebook is to evaluate the models that result from applying different combinations of the four extensions to the original model.**\n",
    "\n",
    "**Main conclusion:** The model that includes the four extensions performs best.\n",
    "\n",
    "**Conventions**\n",
    "\n",
    "1. 2D: Includes flatten sequence in two directions.\n",
    "2. Bi: Includes bidirectional RNN.\n",
    "3. attn: Includes 1 head of an attention mechanism.\n",
    "4. prob/energy: Whether the model calculates the loss on the probability of the sequence's elements or directly on the energy."
   ]
  },
  {
   "cell_type": "code",
   "execution_count": 1,
   "metadata": {},
   "outputs": [],
   "source": [
    "import os\n",
    "import torch\n",
    "import numpy as np\n",
    "import matplotlib.pyplot as plt\n",
    "\n",
    "from collections import defaultdict\n",
    "from torch import nn\n",
    "from torch.utils.data import DataLoader, RandomSampler\n",
    "from tqdm.notebook import tqdm\n",
    "\n",
    "from models.energy_models import (EnergyRNN, EnergyRNN2D,\n",
    "                                  EnergyAttentionRNN, EnergyAttentionRNN2D)\n",
    "from models.probability_models import (ProbabilityRNN, ProbabilityRNN2D,\n",
    "                                       ProbabilityAttentionRNN, ProbabilityAttentionRNN2D)\n",
    "from data_utils.pytorch_datasets import EnergyDataset2D"
   ]
  },
  {
   "cell_type": "markdown",
   "metadata": {},
   "source": [
    "## Data Loaders"
   ]
  },
  {
   "cell_type": "code",
   "execution_count": 2,
   "metadata": {},
   "outputs": [],
   "source": [
    "train_data_path = './data/eval_data.hdf5'\n",
    "batch_size = 128\n",
    "n_random_samples = 32000\n",
    "\n",
    "energy_dataset_2D = EnergyDataset2D(filepath=train_data_path)\n",
    "random_sampler_2D = RandomSampler(energy_dataset_2D, num_samples=n_random_samples, replacement=True)\n",
    "energy_loader_2D = DataLoader(\n",
    "    energy_dataset_2D,\n",
    "    batch_size=batch_size,\n",
    "    sampler=random_sampler_2D,\n",
    "    num_workers=0)"
   ]
  },
  {
   "cell_type": "markdown",
   "metadata": {},
   "source": [
    "## Energy Models Initialization"
   ]
  },
  {
   "cell_type": "code",
   "execution_count": 3,
   "metadata": {},
   "outputs": [],
   "source": [
    "energy_rnn_base = './model_weights/energy/rnn'\n",
    "energy_attn_base = './model_weights/energy/rnn_attn'\n",
    "energy_rnn_paths = {model: os.path.join(energy_rnn_base, model, 'model.ckpt') \n",
    "                     for model in os.listdir(energy_rnn_base)}\n",
    "energy_attn_paths = {model: os.path.join(energy_attn_base, model, 'model.ckpt') \n",
    "                      for model in os.listdir(energy_attn_base)}"
   ]
  },
  {
   "cell_type": "code",
   "execution_count": 4,
   "metadata": {},
   "outputs": [],
   "source": [
    "energy_rnn_models = {}\n",
    "energy_attn_models = {}\n",
    "for model, path in energy_rnn_paths.items():\n",
    "    if '2D' in model:\n",
    "        energy_rnn_models[model] = EnergyRNN2D.load_from_checkpoint(path).eval()\n",
    "    else:\n",
    "        energy_rnn_models[model] = EnergyRNN.load_from_checkpoint(path).eval()\n",
    "        \n",
    "for model, path in energy_attn_paths.items():\n",
    "    if '2D' in model:\n",
    "        energy_attn_models[model] = EnergyAttentionRNN2D.load_from_checkpoint(path).eval()\n",
    "    else:\n",
    "        energy_attn_models[model] = EnergyAttentionRNN.load_from_checkpoint(path).eval()"
   ]
  },
  {
   "cell_type": "markdown",
   "metadata": {},
   "source": [
    "## Probability Models Initilization"
   ]
  },
  {
   "cell_type": "code",
   "execution_count": 5,
   "metadata": {},
   "outputs": [],
   "source": [
    "prob_rnn_base = './model_weights/probability/rnn'\n",
    "prob_attn_base = './model_weights/probability/rnn_attn'\n",
    "prob_rnn_paths = {model: os.path.join(prob_rnn_base, model, 'model.ckpt') \n",
    "                     for model in os.listdir(prob_rnn_base)}\n",
    "prob_attn_paths = {model: os.path.join(prob_attn_base, model, 'model.ckpt') \n",
    "                      for model in os.listdir(prob_attn_base)}"
   ]
  },
  {
   "cell_type": "code",
   "execution_count": 6,
   "metadata": {},
   "outputs": [],
   "source": [
    "prob_rnn_models = {}\n",
    "prob_attn_models = {}\n",
    "for model, path in prob_rnn_paths.items():\n",
    "    if '2D' in model:\n",
    "        prob_rnn_models[model] = ProbabilityRNN2D.load_from_checkpoint(path).eval()\n",
    "    else:\n",
    "        prob_rnn_models[model] = ProbabilityRNN.load_from_checkpoint(path).eval()\n",
    "        \n",
    "for model, path in prob_attn_paths.items():\n",
    "    if '2D' in model:\n",
    "        prob_attn_models[model] = ProbabilityAttentionRNN2D.load_from_checkpoint(path).eval()\n",
    "    else:\n",
    "        prob_attn_models[model] = ProbabilityAttentionRNN.load_from_checkpoint(path).eval()"
   ]
  },
  {
   "cell_type": "markdown",
   "metadata": {},
   "source": [
    "## Generate Predictions"
   ]
  },
  {
   "cell_type": "code",
   "execution_count": 7,
   "metadata": {},
   "outputs": [
    {
     "data": {
      "application/vnd.jupyter.widget-view+json": {
       "model_id": "e94b839073694a73a9bb8de5a7acc9f6",
       "version_major": 2,
       "version_minor": 0
      },
      "text/plain": [
       "HBox(children=(FloatProgress(value=0.0, max=250.0), HTML(value='')))"
      ]
     },
     "metadata": {},
     "output_type": "display_data"
    },
    {
     "name": "stdout",
     "output_type": "stream",
     "text": [
      "\n"
     ]
    }
   ],
   "source": [
    "energy_rnn_preds = defaultdict(list)\n",
    "energy_attn_preds = defaultdict(list)\n",
    "prob_rnn_preds = defaultdict(list)\n",
    "prob_attn_preds = defaultdict(list)\n",
    "true_energy = []\n",
    "with torch.no_grad():\n",
    "    for x_row, x_col, y in tqdm(energy_loader_2D):\n",
    "        for model_name, model in energy_attn_models.items():\n",
    "            if '2D' in model_name:\n",
    "                y_pred, _ = model(x_row, x_col)\n",
    "            else:\n",
    "                y_pred, _ = model(x_row)\n",
    "            energy_attn_preds[model_name].append(y_pred)\n",
    "                \n",
    "        for model_name, model in energy_rnn_models.items():\n",
    "            if '2D' in model_name:\n",
    "                y_pred = model(x_row, x_col)\n",
    "            else:\n",
    "                y_pred = model(x_row)\n",
    "            energy_rnn_preds[model_name].append(y_pred)\n",
    "            \n",
    "        for model_name, model in prob_attn_models.items():\n",
    "            if '2D' in model_name:\n",
    "                y_pred = model.predict_energy(x_row, x_col)\n",
    "            else:\n",
    "                y_pred = model.predict_energy(x_row)\n",
    "            prob_attn_preds[model_name].append(y_pred)\n",
    "                \n",
    "        for model_name, model in prob_rnn_models.items():\n",
    "            if '2D' in model_name:\n",
    "                y_pred = model.predict_energy(x_row, x_col)\n",
    "            else:\n",
    "                y_pred = model.predict_energy(x_row)\n",
    "            prob_rnn_preds[model_name].append(y_pred)\n",
    "        \n",
    "        true_energy.append(y)"
   ]
  },
  {
   "cell_type": "code",
   "execution_count": 8,
   "metadata": {},
   "outputs": [],
   "source": [
    "def center_predictions(preds_list):\n",
    "    preds_tensor = torch.cat(preds_list, axis=0)\n",
    "    return (preds_tensor - torch.mean(preds_tensor)).squeeze()"
   ]
  },
  {
   "cell_type": "code",
   "execution_count": 9,
   "metadata": {},
   "outputs": [],
   "source": [
    "centered_energy_rnn_preds = {}\n",
    "centered_energy_attn_preds = {}\n",
    "centered_prob_rnn_preds = {}\n",
    "centered_prob_attn_preds = {}\n",
    "\n",
    "for model, model_preds in energy_rnn_preds.items():\n",
    "    centered_energy_rnn_preds[model] = center_predictions(model_preds)\n",
    "    \n",
    "for model, model_preds in energy_attn_preds.items():\n",
    "    centered_energy_attn_preds[model] = center_predictions(model_preds)\n",
    "    \n",
    "for model, model_preds in prob_rnn_preds.items():\n",
    "    centered_prob_rnn_preds[model] = center_predictions(model_preds)\n",
    "    \n",
    "for model, model_preds in prob_attn_preds.items():\n",
    "    centered_prob_attn_preds[model] = center_predictions(model_preds)\n",
    "    \n",
    "true_centered = center_predictions(true_energy)"
   ]
  },
  {
   "cell_type": "markdown",
   "metadata": {},
   "source": [
    "## RMSE Calculation"
   ]
  },
  {
   "cell_type": "code",
   "execution_count": 10,
   "metadata": {},
   "outputs": [],
   "source": [
    "criterion = nn.MSELoss()\n",
    "rmse_values = {}\n",
    "for model, model_preds in centered_energy_rnn_preds.items():\n",
    "    rmse = torch.sqrt(criterion(true_centered, model_preds))\n",
    "    rmse_values['energy_rnn/' + model] = rmse.item()\n",
    "    \n",
    "for model, model_preds in centered_energy_attn_preds.items():\n",
    "    rmse = torch.sqrt(criterion(true_centered, model_preds))\n",
    "    rmse_values['energy_attn/' + model] = rmse.item()\n",
    "    \n",
    "for model, model_preds in centered_prob_rnn_preds.items():\n",
    "    rmse = torch.sqrt(criterion(true_centered, model_preds))\n",
    "    rmse_values['prob_rnn/' + model] = rmse.item()\n",
    "    \n",
    "for model, model_preds in centered_prob_attn_preds.items():\n",
    "    rmse = torch.sqrt(criterion(true_centered, model_preds))\n",
    "    rmse_values['prob_attn/' + model] = rmse.item()"
   ]
  },
  {
   "cell_type": "markdown",
   "metadata": {},
   "source": [
    "### Model Leaderboard"
   ]
  },
  {
   "cell_type": "code",
   "execution_count": 11,
   "metadata": {},
   "outputs": [
    {
     "name": "stdout",
     "output_type": "stream",
     "text": [
      "1. energy_attn/2D_GRU_1L_1H_Bi: 7.79\n",
      "2. energy_attn/GRU_1L_1H_Bi: 11.26\n",
      "3. energy_attn/GRU_1L_1H: 12.71\n",
      "4. energy_rnn/2D_GRU_1L_Bi: 12.72\n",
      "5. energy_rnn/GRU_1L_Bi: 13.64\n",
      "6. energy_rnn/2D_GRU_1L: 14.21\n",
      "7. energy_rnn/LSTM_1L_Bi: 14.27\n",
      "8. energy_rnn/GRU_1L: 15.78\n",
      "9. prob_rnn/GRU_1L: 19.85\n",
      "10. prob_rnn/2D_GRU_1L: 20.03\n",
      "11. prob_attn/2D_GRU_1L_1H: 22.16\n",
      "12. prob_rnn/2D_GRU_1L_Bi: 22.50\n",
      "13. prob_rnn/GRU_1L_Bi: 23.97\n",
      "14. prob_rnn/LSTM_1L_Bi: 24.01\n",
      "15. prob_attn/2D_GRU_1L_1H_Bi: 24.60\n",
      "16. prob_attn/GRU_1L_1H_Bi: 25.72\n"
     ]
    }
   ],
   "source": [
    "leaderboard = {k: v for k, v in sorted(rmse_values.items(), key=lambda item: item[1])}\n",
    "for i, (model, score) in enumerate(leaderboard.items()):\n",
    "    print(f'{i+1}. {model}: {score:.2f}')"
   ]
  },
  {
   "cell_type": "markdown",
   "metadata": {},
   "source": [
    "## Plot Model Generalization"
   ]
  },
  {
   "cell_type": "code",
   "execution_count": 12,
   "metadata": {},
   "outputs": [],
   "source": [
    "def plot_difference(true_centered, model_centered_preds, ax, label, delta=False):\n",
    "\n",
    "    diffs = model_centered_preds - true_centered\n",
    "    buckets = defaultdict(list)\n",
    "    for true, pred in zip(true_centered, diffs):\n",
    "        buckets[true].append(pred)\n",
    "\n",
    "    n_buckets = len(buckets)\n",
    "    y_high = np.zeros(n_buckets)\n",
    "    y_center = np.zeros(n_buckets)\n",
    "    y_low = np.zeros(n_buckets)\n",
    "    x_vals = np.zeros(n_buckets)\n",
    "    for i, key in enumerate(sorted(buckets.keys())):\n",
    "        x_vals[i] = key\n",
    "        diffs_arr = np.array(buckets[key])\n",
    "        mean = np.mean(diffs_arr)\n",
    "        std = np.std(diffs_arr)\n",
    "        y_low[i] = mean - 2*std\n",
    "        y_center[i] = mean\n",
    "        y_high[i] = mean + 2*std\n",
    "        \n",
    "    if delta:\n",
    "        ax.fill_between(x_vals, y_high, y_low, alpha=0.2)\n",
    "    ax.plot(x_vals, y_center, label=label)"
   ]
  },
  {
   "cell_type": "code",
   "execution_count": 13,
   "metadata": {},
   "outputs": [
    {
     "data": {
      "text/plain": [
       "Text(0.5, 0, '$E(\\\\sigma_{i}) - \\\\overline{E(\\\\sigma)}$')"
      ]
     },
     "execution_count": 13,
     "metadata": {},
     "output_type": "execute_result"
    },
    {
     "data": {
      "image/png": "[encoded data removed]",
      "text/plain": [
       "<Figure size 1080x576 with 1 Axes>"
      ]
     },
     "metadata": {
      "needs_background": "light"
     },
     "output_type": "display_data"
    }
   ],
   "source": [
    "plt.style.use('seaborn-poster')\n",
    "fig, ax = plt.subplots(figsize=(15, 8))\n",
    "delta = True\n",
    "\n",
    "best_model = '2D_GRU_1L_1H_Bi'\n",
    "best_preds = centered_energy_attn_preds[best_model]\n",
    "ref_model = 'GRU_1L'\n",
    "ref_preds = centered_prob_rnn_preds[ref_model]\n",
    "\n",
    "plot_difference(true_centered.numpy(), best_preds.numpy(), ax, 'Extended Model', delta)\n",
    "plot_difference(true_centered.numpy(), ref_preds.numpy(), ax, 'Original Model', delta)\n",
    "ax.legend()\n",
    "ax.axhline(0, linestyle='--', c='black')\n",
    "ax.set_ylabel(r\"${E}'(\\sigma_{i}) - E(\\sigma_{i})- \\left(\\overline{{E}'(\\sigma)} - \\overline{E(\\sigma)}\\right)$\")\n",
    "ax.set_xlabel(r\"$E(\\sigma_{i}) - \\overline{E(\\sigma)}$\")"
   ]
  }
 ],
 "metadata": {
  "kernelspec": {
   "display_name": "Python [conda env:wandl]",
   "language": "python",
   "name": "conda-env-wandl-py"
  },
  "language_info": {
   "codemirror_mode": {
    "name": "ipython",
    "version": 3
   },
   "file_extension": ".py",
   "mimetype": "text/x-python",
   "name": "python",
   "nbconvert_exporter": "python",
   "pygments_lexer": "ipython3",
   "version": "3.8.1"
  },
  "varInspector": {
   "cols": {
    "lenName": 16,
    "lenType": 16,
    "lenVar": 40
   },
   "kernels_config": {
    "python": {
     "delete_cmd_postfix": "",
     "delete_cmd_prefix": "del ",
     "library": "var_list.py",
     "varRefreshCmd": "print(var_dic_list())"
    },
    "r": {
     "delete_cmd_postfix": ") ",
     "delete_cmd_prefix": "rm(",
     "library": "var_list.r",
     "varRefreshCmd": "cat(var_dic_list()) "
    }
   },
   "types_to_exclude": [
    "module",
    "function",
    "builtin_function_or_method",
    "instance",
    "_Feature"
   ],
   "window_display": false
  }
 },
 "nbformat": 4,
 "nbformat_minor": 2
}
